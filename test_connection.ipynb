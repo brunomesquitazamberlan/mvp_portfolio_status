{
 "cells": [
  {
   "cell_type": "markdown",
   "metadata": {},
   "source": [
    "<h1> Without .Env </h1>"
   ]
  },
  {
   "cell_type": "code",
   "execution_count": 2,
   "metadata": {},
   "outputs": [],
   "source": [
    "import os\n",
    "from dotenv import load_dotenv\n",
    "import firebase_admin\n",
    "from firebase_admin import credentials, firestore\n",
    "\n",
    "if not firebase_admin._apps:\n",
    "    cred = credentials.Certificate('projectportfolio.json')\n",
    "    firebase_admin.initialize_app(cred)\n",
    "\n",
    "# Conectar ao Firestore\n",
    "db = firestore.client()\n"
   ]
  },
  {
   "cell_type": "code",
   "execution_count": 4,
   "metadata": {},
   "outputs": [],
   "source": [
    "import os\n",
    "from dotenv import load_dotenv\n",
    "import firebase_admin\n",
    "from firebase_admin import credentials, firestore\n",
    "\n",
    "# Carregar variáveis de ambiente do arquivo .env\n",
    "load_dotenv()\n",
    "\n",
    "# Obter o caminho para o arquivo de credenciais\n",
    "firebase_credentials_path = os.getenv('FIREBASE_CREDENTIALS_PATH')\n",
    "\n",
    "# Inicializar o Firebase se não estiver inicializado\n",
    "if not firebase_admin._apps:\n",
    "    cred = credentials.Certificate(firebase_credentials_path)\n",
    "    firebase_admin.initialize_app(cred)\n",
    "\n",
    "# Conectar ao Firestore\n",
    "db = firestore.client()\n"
   ]
  }
 ],
 "metadata": {
  "kernelspec": {
   "display_name": "mvp-portfolio-status-5KPyl2ke-py3.11",
   "language": "python",
   "name": "python3"
  },
  "language_info": {
   "codemirror_mode": {
    "name": "ipython",
    "version": 3
   },
   "file_extension": ".py",
   "mimetype": "text/x-python",
   "name": "python",
   "nbconvert_exporter": "python",
   "pygments_lexer": "ipython3",
   "version": "3.11.3"
  }
 },
 "nbformat": 4,
 "nbformat_minor": 2
}
